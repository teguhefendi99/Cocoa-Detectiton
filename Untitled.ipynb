{
 "cells": [
  {
   "cell_type": "code",
   "execution_count": 1,
   "id": "f35beef7-2c2e-4a55-9302-afb9d59c6158",
   "metadata": {},
   "outputs": [
    {
     "name": "stdout",
     "output_type": "stream",
     "text": [
      "Sukses! Total: 1003 gambar → 802 train, 201 val.\n"
     ]
    }
   ],
   "source": [
    "import os\n",
    "import random\n",
    "import shutil\n",
    "\n",
    "# Rasio data training vs validasi\n",
    "split_ratio = 0.8  # 80% training, 20% val\n",
    "\n",
    "# Folder awal\n",
    "image_dir = 'images'\n",
    "label_dir = 'labels'\n",
    "\n",
    "# Buat folder baru untuk hasil split\n",
    "train_img_dir = os.path.join(image_dir, 'train')\n",
    "val_img_dir = os.path.join(image_dir, 'val')\n",
    "train_lbl_dir = os.path.join(label_dir, 'train')\n",
    "val_lbl_dir = os.path.join(label_dir, 'val')\n",
    "\n",
    "# Pastikan semua folder tujuan ada\n",
    "for d in [train_img_dir, val_img_dir, train_lbl_dir, val_lbl_dir]:\n",
    "    os.makedirs(d, exist_ok=True)\n",
    "\n",
    "# Ambil semua file gambar\n",
    "image_files = [f for f in os.listdir(image_dir) if f.endswith(('.jpg', '.png', '.jpeg')) and os.path.isfile(os.path.join(image_dir, f))]\n",
    "\n",
    "# Acak dan bagi data\n",
    "random.shuffle(image_files)\n",
    "split_idx = int(len(image_files) * split_ratio)\n",
    "train_files = image_files[:split_idx]\n",
    "val_files = image_files[split_idx:]\n",
    "\n",
    "def move_files(file_list, img_dest, lbl_dest):\n",
    "    for fname in file_list:\n",
    "        base = os.path.splitext(fname)[0]\n",
    "        img_src = os.path.join(image_dir, fname)\n",
    "        lbl_src = os.path.join(label_dir, base + '.txt')\n",
    "\n",
    "        # Pindah gambar\n",
    "        if os.path.exists(img_src):\n",
    "            shutil.move(img_src, os.path.join(img_dest, fname))\n",
    "        # Pindah label\n",
    "        if os.path.exists(lbl_src):\n",
    "            shutil.move(lbl_src, os.path.join(lbl_dest, base + '.txt'))\n",
    "\n",
    "# Eksekusi pemindahan\n",
    "move_files(train_files, train_img_dir, train_lbl_dir)\n",
    "move_files(val_files, val_img_dir, val_lbl_dir)\n",
    "\n",
    "print(f\"Sukses! Total: {len(image_files)} gambar → {len(train_files)} train, {len(val_files)} val.\")\n"
   ]
  },
  {
   "cell_type": "code",
   "execution_count": null,
   "id": "f7ff7146-5aad-467b-9fa9-821ed62a729f",
   "metadata": {},
   "outputs": [],
   "source": []
  }
 ],
 "metadata": {
  "kernelspec": {
   "display_name": "Python 3 (ipykernel)",
   "language": "python",
   "name": "python3"
  },
  "language_info": {
   "codemirror_mode": {
    "name": "ipython",
    "version": 3
   },
   "file_extension": ".py",
   "mimetype": "text/x-python",
   "name": "python",
   "nbconvert_exporter": "python",
   "pygments_lexer": "ipython3",
   "version": "3.12.2"
  }
 },
 "nbformat": 4,
 "nbformat_minor": 5
}
